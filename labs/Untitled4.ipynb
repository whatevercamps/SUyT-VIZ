{
 "cells": [
  {
   "cell_type": "code",
   "execution_count": 1,
   "metadata": {},
   "outputs": [],
   "source": [
    "import pandas as pd\n",
    "import numpy as np\n",
    "import json\n",
    "from os import listdir\n",
    "from os.path import isfile, join\n",
    "import copy"
   ]
  },
  {
   "cell_type": "code",
   "execution_count": null,
   "metadata": {},
   "outputs": [],
   "source": [
    "escenarios = [1,2]\n",
    "zonas = ['[a{0},'.format(zona) for zona in range(1, 128)]\n",
    "attrs = ['tpc', 'car', 'tm', 'peak', 'opeak']\n",
    "params = zonas + attrs \n",
    "path = '/Users/davidbautista/Documents/tesis/luti-back/server/'"
   ]
  },
  {
   "cell_type": "code",
   "execution_count": null,
   "metadata": {},
   "outputs": [],
   "source": [
    "dat = None\n",
    "for escenario in escenarios:\n",
    "    for param in params:\n",
    "        onlyfiles = [f for f in listdir(path + 'docs/escenario{0}/'.format(escenario)) if isfile(join(path + 'docs/escenario{0}/'.format(escenario), f)) and param in f]\n",
    "        try:\n",
    "            print(\"one path\")\n",
    "            print('docs/escenario{0}/{1}'.format(escenario, onlyfiles[0]))\n",
    "        except:\n",
    "            print(\"len paths\")\n",
    "            print(len(onlyfiles))\n",
    "        for filename in onlyfiles:\n",
    "            try:\n",
    "                file = pd.read_json(path + 'docs/escenario{0}/{1}'.format(escenario, filename))\n",
    "                try:\n",
    "                    if dat != None:\n",
    "                        dat += file['value']\n",
    "                    else:\n",
    "                        dat = file\n",
    "                except:\n",
    "                    dat = file\n",
    "            except:\n",
    "                continue\n",
    "        print(\"saving on\", path + 'docs/escenario{0}/timeline_{1}.json'.format(escenario, param.replace(\"[\", \"\").replace(\",\", \"\")))\n",
    "        dat.to_json(path + 'docs/escenario{0}/timeline_{1}.json'.format(escenario, param.replace(\"[\", \"\").replace(\",\", \"\")), orient='records')\n",
    "        break\n",
    "    break"
   ]
  },
  {
   "cell_type": "code",
   "execution_count": 3,
   "metadata": {},
   "outputs": [],
   "source": [
    "p = path + 'docs/escenario1/'\n",
    "rutas = [f for f in listdir(p) if isfile(join(p, f)) and \"accessibility ij[\" in f]"
   ]
  },
  {
   "cell_type": "code",
   "execution_count": 4,
   "metadata": {},
   "outputs": [
    {
     "data": {
      "text/plain": [
       "[]"
      ]
     },
     "execution_count": 4,
     "metadata": {},
     "output_type": "execute_result"
    }
   ],
   "source": [
    "rutas"
   ]
  },
  {
   "cell_type": "code",
   "execution_count": null,
   "metadata": {},
   "outputs": [],
   "source": [
    "data = [[[0 for k in range(128)] for j in range(128)] for i in range(42)]\n",
    "prev = 0\n",
    "for ruta in rutas:\n",
    "    prev += 1\n",
    "    if prev % 1000 == 0:\n",
    "        print(prev)\n",
    "    df = pd.read_json(join(p, ruta))\n",
    "    for index,row in df.iterrows():\n",
    "        z1 = int(row['zona_i_id'].split(\"a\")[1])\n",
    "        z2 = int(row['zona_j_id'].split(\"a\")[1])\n",
    "        t = int(row['time'])\n",
    "        value = float(row['value'])\n",
    "        data[t][z1][z2] += value"
   ]
  },
  {
   "cell_type": "code",
   "execution_count": null,
   "metadata": {},
   "outputs": [],
   "source": [
    "for i in range(0, 10):\n",
    "    print(i, data[i][82][11])"
   ]
  },
  {
   "cell_type": "code",
   "execution_count": null,
   "metadata": {},
   "outputs": [],
   "source": [
    "import sys\n",
    "for tt, time_upzs in enumerate(data):\n",
    "    if tt > 41:\n",
    "        continue\n",
    "    else:\n",
    "        time_data = []\n",
    "        for upz1, upz1_upzs in enumerate(time_upzs):\n",
    "            for upz2, upz2_value in enumerate(upz1_upzs):\n",
    "                elem = {}\n",
    "                elem['zi'] = 'a{}'.format(upz1)\n",
    "                elem['zj'] = 'a{}'.format(upz2)\n",
    "                elem['value'] = upz2_value\n",
    "                time_data.append(elem)\n",
    "        try:\n",
    "            print('saving file {}docs/heatmap_t{}.json'.format(path, tt))\n",
    "            filename = '{}docs/escenario2resumen/heatmap/heatmap_t{}.json'.format(path, tt)\n",
    "            with open(filename, 'w') as fileout:\n",
    "                json.dump(time_data, fileout)\n",
    "        except:\n",
    "            print('error - error: ', sys.exc_info())\n",
    "            continue"
   ]
  },
  {
   "cell_type": "code",
   "execution_count": null,
   "metadata": {},
   "outputs": [],
   "source": [
    "data[1][1][1]"
   ]
  },
  {
   "cell_type": "code",
   "execution_count": null,
   "metadata": {},
   "outputs": [],
   "source": [
    "row"
   ]
  },
  {
   "cell_type": "code",
   "execution_count": null,
   "metadata": {},
   "outputs": [],
   "source": []
  }
 ],
 "metadata": {
  "kernelspec": {
   "display_name": "Python 3",
   "language": "python",
   "name": "python3"
  },
  "language_info": {
   "codemirror_mode": {
    "name": "ipython",
    "version": 3
   },
   "file_extension": ".py",
   "mimetype": "text/x-python",
   "name": "python",
   "nbconvert_exporter": "python",
   "pygments_lexer": "ipython3",
   "version": "3.7.4"
  }
 },
 "nbformat": 4,
 "nbformat_minor": 2
}
