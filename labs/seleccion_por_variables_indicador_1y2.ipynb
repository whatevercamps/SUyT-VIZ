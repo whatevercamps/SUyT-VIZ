{
 "cells": [
  {
   "cell_type": "code",
   "execution_count": 1,
   "metadata": {},
   "outputs": [],
   "source": [
    "import pandas as pd\n",
    "import numpy as np\n",
    "import itertools"
   ]
  },
  {
   "cell_type": "code",
   "execution_count": 2,
   "metadata": {},
   "outputs": [],
   "source": [
    "# lineas recorridas: 0\n",
    "seguir = True \n",
    "slow_mode_data = []\n",
    "prev = 0\n",
    "file = open(\"bob1.dat\", \"r\")\n",
    "while seguir: \n",
    "    linea1 = file.readline()\n",
    "    linea2 = file.readline()\n",
    "    if \"slow tours\" not in linea1:\n",
    "        seguir = False\n",
    "    else:\n",
    "        prev += 2\n",
    "        zona_indice = linea1.split('\"')[2].split(',')[0].split('a')[1]\n",
    "        tipo = linea1.split('\"')[2].split(',')[1].split(']')[0]\n",
    "        valor = float(linea2.split('\\t')[1])\n",
    "        \n",
    "        zona_prev = [zona for zona in slow_mode_data if zona[\"id\"] and zona[\"id\"] == zona_indice]\n",
    "        if len(zona_prev) > 0:\n",
    "            zona = zona_prev[0]\n",
    "            zona[tipo] = valor\n",
    "            \n",
    "        else:\n",
    "            zona = {}\n",
    "            zona[\"id\"] = zona_indice\n",
    "            zona[tipo] = valor\n",
    "            slow_mode_data.append(zona)\n",
    "            \n",
    "#np_array = np.asarray(slow_mode_data)\n",
    "#df = pd.DataFrame(slow_mode_data)\n",
    "#df.to_csv(\"slowmode_single_zone.csv\", index=None)"
   ]
  },
  {
   "cell_type": "code",
   "execution_count": 3,
   "metadata": {},
   "outputs": [],
   "source": [
    "# lineas recorridas: 507\n",
    "file = open(\"bob1.dat\", \"r\")\n",
    "seguir = True\n",
    "accs_data = []\n",
    "\n",
    "acc_zona = None\n",
    "acc_type = None\n",
    "acc_mode = None\n",
    "line_ind = 0\n",
    "for linea in itertools.islice(file, prev, prev+1):\n",
    "    inic_line = linea\n",
    "while seguir:\n",
    "    if inic_line != None:\n",
    "        linea = inic_line\n",
    "        inic_line = None\n",
    "    else: \n",
    "        linea = file.readline()\n",
    "    if \"accessibility i[\" in linea:\n",
    "        data = linea.split('[')[1].split(\"]\")[0].split(\",\")\n",
    "        acc_zona = data[0]\n",
    "        acc_type = data[1]\n",
    "        acc_mode = data[2]\n",
    "        line_ind = 0\n",
    "        prev += 1\n",
    "    else:\n",
    "        data = linea.split('\\t')\n",
    "        try:\n",
    "            data_line_ind = int(float(data[0]))\n",
    "        except:\n",
    "            break\n",
    "        if line_ind == data_line_ind:\n",
    "            prev += 1\n",
    "            if acc_zona != None and acc_type != None and acc_mode != None:\n",
    "                time = int(data[0])\n",
    "                value = float(data[1])\n",
    "                obj_acc_i = {'zona_id': acc_zona, 'type': acc_type, 'mode': acc_mode, 'time': time, 'value': value}\n",
    "                accs_data.append(obj_acc_i)\n",
    "                line_ind += 1\n",
    "        else:\n",
    "            seguir = False\n",
    "#acc_df = pd.DataFrame(accs_data)\n",
    "#acc_df.to_csv(\"accesibility_data.csv\", index=None)"
   ]
  },
  {
   "cell_type": "code",
   "execution_count": 34,
   "metadata": {},
   "outputs": [
    {
     "name": "stdout",
     "output_type": "stream",
     "text": [
      "accessibility ij[a1,a1,tpc,peak]\n",
      "\n",
      "0\t491098\n",
      "\n"
     ]
    }
   ],
   "source": [
    "# lineas recorridas: 33274\n",
    "file = open(\"bob1.dat\", \"r\")\n",
    "seguir = True\n",
    "acc_ij_data = []\n",
    "prev = 33274\n",
    "acc_ij_zona = None\n",
    "acc_ij_type = None\n",
    "acc_ij_mode = None\n",
    "line_ind = 0\n",
    "for linea in itertools.islice(file, prev, prev+1):\n",
    "    inic_line = linea\n",
    "while seguir and prev < 33274 + 2:\n",
    "    if inic_line != None:\n",
    "        linea = inic_line\n",
    "        inic_line = None\n",
    "    else: \n",
    "        linea = file.readline()\n",
    "    print(linea)\n",
    "    if \"accessibility ij[\" in linea:\n",
    "        data = linea.split('[')[1].split(\"]\")[0].split(\",\")\n",
    "        acc_i_zona = data[0]\n",
    "        acc_j_zona = data[1]\n",
    "        acc_ij_type = data[2]\n",
    "        acc_ij_mode = data[3]\n",
    "        line_ind = 0\n",
    "        prev += 1\n",
    "    else:\n",
    "        data = linea.split('\\t')\n",
    "        try:\n",
    "            data_line_ind = int(float(data[0]))\n",
    "        except:\n",
    "            break\n",
    "        if line_ind == data_line_ind:\n",
    "            prev += 1\n",
    "            if acc_i_zona != None and acc_j_zona != None and acc_ij_type != None and acc_ij_mode != None:\n",
    "                time = int(data[0])\n",
    "                value = float(data[1])\n",
    "                obj_acc_ij_i = {'zona_i_id': acc_i_zona, 'zona_j_id': acc_j_zona, 'type': acc_ij_type, 'mode': acc_ij_mode, 'time': time, 'value': value}\n",
    "                acc_ij_data.append(obj_acc_ij_i)\n",
    "                line_ind += 1\n",
    "        else:\n",
    "            seguir = False\n",
    "acc_ij_df = pd.DataFrame(acc_ij_data)\n",
    "#acc_ij_df.to_csv(\"accesibility_ij_data.csv\", index=None)"
   ]
  },
  {
   "cell_type": "code",
   "execution_count": 18,
   "metadata": {},
   "outputs": [
    {
     "data": {
      "text/plain": [
       "array(['tpc', 'tm', 'car'], dtype=object)"
      ]
     },
     "execution_count": 18,
     "metadata": {},
     "output_type": "execute_result"
    }
   ],
   "source": [
    "acc_ij_df.type.unique()"
   ]
  },
  {
   "cell_type": "code",
   "execution_count": 20,
   "metadata": {},
   "outputs": [
    {
     "data": {
      "text/plain": [
       "4194556"
      ]
     },
     "execution_count": 20,
     "metadata": {},
     "output_type": "execute_result"
    }
   ],
   "source": [
    "# lineas recorridas: 4194556\n",
    "file = open(\"bob1.dat\", \"r\")\n",
    "seguir = True\n",
    "acc_ij_data = []\n",
    "line_ind = 0\n",
    "for linea in itertools.islice(file, prev, prev+1):\n",
    "    inic_line = linea\n",
    "while seguir:\n",
    "    if inic_line != None:\n",
    "        linea = inic_line\n",
    "        inic_line = None\n",
    "    else: \n",
    "        linea = file.readline()\n",
    "    if \"accessibility ij[\" in linea:\n",
    "        data = linea.split('[')[1].split(\"]\")[0].split(\",\")\n",
    "        acc_i_zona = data[0]\n",
    "        acc_j_zona = data[1]\n",
    "        acc_ij_type = data[2]\n",
    "        acc_ij_mode = data[3]\n",
    "        line_ind = 0\n",
    "        prev += 1\n",
    "    else:\n",
    "        data = linea.split('\\t')\n",
    "        try:\n",
    "            data_line_ind = int(float(data[0]))\n",
    "        except:\n",
    "            break\n",
    "        if line_ind == data_line_ind:\n",
    "            prev += 1\n",
    "            if acc_i_zona != None and acc_j_zona != None and acc_ij_type != None and acc_ij_mode != None:\n",
    "                time = int(data[0])\n",
    "                value = float(data[1])\n",
    "                obj_acc_ij_i = {'zona_i_id': acc_i_zona, 'zona_j_id': acc_j_zona, 'type': acc_ij_type, 'mode': acc_ij_mode, 'time': time, 'value': value}\n",
    "                acc_ij_data.append(obj_acc_ij_i)\n",
    "                line_ind += 1\n",
    "        else:\n",
    "            seguir = False\n",
    "#acc_ij_df = pd.DataFrame(acc_ij_data)\n",
    "#acc_ij_df.to_csv(\"accesibility_ij_data.csv\", index=None)"
   ]
  },
  {
   "cell_type": "code",
   "execution_count": 28,
   "metadata": {},
   "outputs": [
    {
     "data": {
      "text/plain": [
       "33274"
      ]
     },
     "execution_count": 28,
     "metadata": {},
     "output_type": "execute_result"
    }
   ],
   "source": [
    "prev"
   ]
  },
  {
   "cell_type": "code",
   "execution_count": 31,
   "metadata": {},
   "outputs": [
    {
     "name": "stdout",
     "output_type": "stream",
     "text": [
      "135741458\n"
     ]
    }
   ],
   "source": [
    "file = open(\"bob1.dat\", \"r\")\n",
    "for i, l in enumerate(file):\n",
    "    pass\n",
    "print(i + 1)"
   ]
  },
  {
   "cell_type": "code",
   "execution_count": 23,
   "metadata": {},
   "outputs": [
    {
     "data": {
      "text/plain": [
       "True"
      ]
     },
     "execution_count": 23,
     "metadata": {},
     "output_type": "execute_result"
    }
   ],
   "source": [
    "\"-\" in \"asd - asd\""
   ]
  },
  {
   "cell_type": "code",
   "execution_count": 25,
   "metadata": {},
   "outputs": [
    {
     "data": {
      "text/plain": [
       "['a3', 'a1', 'a2']"
      ]
     },
     "execution_count": 25,
     "metadata": {},
     "output_type": "execute_result"
    }
   ],
   "source": [
    "list(set([\"a1\", \"a2\", \"a1\", \"a3\"]))"
   ]
  },
  {
   "cell_type": "code",
   "execution_count": 26,
   "metadata": {},
   "outputs": [
    {
     "data": {
      "text/plain": [
       "[1, 2, 3, 4, 5, 6]"
      ]
     },
     "execution_count": 26,
     "metadata": {},
     "output_type": "execute_result"
    }
   ],
   "source": [
    "[1,2,3]+[4,5,6]"
   ]
  },
  {
   "cell_type": "code",
   "execution_count": 32,
   "metadata": {},
   "outputs": [
    {
     "data": {
      "text/plain": [
       "[1, 2, 3, 4, 5, 6, 7, 8, 9]"
      ]
     },
     "execution_count": 32,
     "metadata": {},
     "output_type": "execute_result"
    }
   ],
   "source": [
    "[i for i in range(int(\"1\"), int(\"10\"))]"
   ]
  },
  {
   "cell_type": "code",
   "execution_count": 30,
   "metadata": {},
   "outputs": [
    {
     "data": {
      "text/plain": [
       "1"
      ]
     },
     "execution_count": 30,
     "metadata": {},
     "output_type": "execute_result"
    }
   ],
   "source": [
    "min(1, 10)"
   ]
  },
  {
   "cell_type": "code",
   "execution_count": 33,
   "metadata": {},
   "outputs": [
    {
     "data": {
      "text/plain": [
       "1"
      ]
     },
     "execution_count": 33,
     "metadata": {},
     "output_type": "execute_result"
    }
   ],
   "source": [
    "int(1)"
   ]
  },
  {
   "cell_type": "code",
   "execution_count": null,
   "metadata": {},
   "outputs": [],
   "source": []
  }
 ],
 "metadata": {
  "kernelspec": {
   "display_name": "Python 3",
   "language": "python",
   "name": "python3"
  },
  "language_info": {
   "codemirror_mode": {
    "name": "ipython",
    "version": 3
   },
   "file_extension": ".py",
   "mimetype": "text/x-python",
   "name": "python",
   "nbconvert_exporter": "python",
   "pygments_lexer": "ipython3",
   "version": "3.7.4"
  }
 },
 "nbformat": 4,
 "nbformat_minor": 2
}
