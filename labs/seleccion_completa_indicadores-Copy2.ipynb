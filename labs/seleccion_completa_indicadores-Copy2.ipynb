{
 "cells": [
  {
   "cell_type": "code",
   "execution_count": 1,
   "metadata": {},
   "outputs": [],
   "source": [
    "import pandas as pd\n",
    "import numpy as np\n",
    "import itertools\n",
    "import copy\n",
    "import sys\n",
    "import json"
   ]
  },
  {
   "cell_type": "code",
   "execution_count": 2,
   "metadata": {},
   "outputs": [],
   "source": [
    "file = open(\"bob2.dat\", \"r\")\n",
    "data_file = []\n",
    "attrs = {}\n",
    "title = ''\n",
    "counter_line_ind = 0\n",
    "general_line_number = 0\n",
    "splitting_line_number = 0\n",
    "number_of_same_files = 0\n",
    "prev_title = \"\"\n",
    "while general_line_number < 33276:\n",
    "    linea = file.readline()\n",
    "    if not linea:\n",
    "        break\n",
    "    splitting_line_number += 1\n",
    "    general_line_number += 1 \n",
    "    is_title = False\n",
    "    if '\\t' in linea:\n",
    "        try:\n",
    "            line_split = linea.split('\\t')\n",
    "            data_line_ind = int(float(line_split[0]))\n",
    "            if data_line_ind == counter_line_ind:\n",
    "                time = data_line_ind\n",
    "                try:\n",
    "                    value = float(line_split[1])\n",
    "                except:\n",
    "                    value = 'not val'\n",
    "                    \n",
    "                attrs['value'] = value\n",
    "                attrs['time'] = data_line_ind\n",
    "                counter_line_ind += 1\n",
    "                data_file.append(copy.copy(attrs))\n",
    "                if data_line_ind == 41:\n",
    "                    segTitle = prev_title.split(']')[0] + ']'\n",
    "                    with open('files4/{0}.json'.format(segTitle), 'w') as ff:\n",
    "                        json.dump(data_file, ff)\n",
    "                    data_file = []\n",
    "                    splitting_line_number = 0\n",
    "            else:\n",
    "                print('lines missmatch data:', data_line_ind, ' count:', counter_line_ind)       \n",
    "        except:\n",
    "            is_title = True\n",
    "    else:\n",
    "        is_title = True\n",
    "    if is_title:\n",
    "        try:\n",
    "            line_split = copy.copy(linea.split('['))\n",
    "            prev_title = copy.copy(linea) \n",
    "            #print('en try ** ', prev_title )\n",
    "            if general_line_number > 2:\n",
    "                if title != line_split[0]:\n",
    "                    #print('change of indicator *** prev-ind:', title, 'new-ind:',line_split[0])\n",
    "                    title = title.replace('/','-').replace('.', '-')\n",
    "                    if(number_of_same_files > 0):\n",
    "                        title = '{0}-{1}'.format(title, number_of_same_files)\n",
    "                    with open('files4/{0}.json'.format(title).replace('?', ''), 'w') as ff:\n",
    "                        json.dump(data_file, ff)\n",
    "                    data_file = []\n",
    "                    splitting_line_number = 0\n",
    "                    number_of_same_files = 0\n",
    "                elif splitting_line_number>10000:\n",
    "                    number_of_same_files += 1\n",
    "                    with open('files4/{0}-{1}.json'.format(title, number_of_same_files), 'w') as ff:\n",
    "                        json.dump(data_file, ff)\n",
    "                    splitting_line_number = 0\n",
    "                    data_file = []\n",
    "            title = line_split[0]\n",
    "            for_attrs = []\n",
    "            attrs = {}\n",
    "            if len(line_split) > 1:\n",
    "                for (number, attr) in enumerate(line_split[1].split(\"]\")[0].split(\",\")):\n",
    "                    attrs['attr {}'.format(number+1)] = attr\n",
    "            attrs['value'] = 'not val yet'\n",
    "            counter_line_ind = 0\n",
    "        except:\n",
    "            print('error on line ', general_line_number, ' - line content:', linea, ' - error: ', sys.exc_info())\n",
    "            break"
   ]
  },
  {
   "cell_type": "code",
   "execution_count": 48,
   "metadata": {},
   "outputs": [
    {
     "name": "stdout",
     "output_type": "stream",
     "text": [
      "135741458\n"
     ]
    }
   ],
   "source": [
    "file = open(\"bob1.dat\", \"r\")\n",
    "for i, l in enumerate(file):\n",
    "    pass\n",
    "print(i + 1)"
   ]
  },
  {
   "cell_type": "code",
   "execution_count": null,
   "metadata": {},
   "outputs": [],
   "source": [
    "jeje = {'attr 1': 'a1', 'attr 2': 'peak', 'value': 0.533682}\n",
    "je_arr = []"
   ]
  },
  {
   "cell_type": "code",
   "execution_count": null,
   "metadata": {},
   "outputs": [],
   "source": [
    "for a in range(10):\n",
    "    je_arr.append(jeje)"
   ]
  },
  {
   "cell_type": "code",
   "execution_count": null,
   "metadata": {},
   "outputs": [],
   "source": [
    "je_arr"
   ]
  },
  {
   "cell_type": "code",
   "execution_count": null,
   "metadata": {},
   "outputs": [],
   "source": [
    "pd_je_arr = pd.DataFrame(je_arr)"
   ]
  },
  {
   "cell_type": "code",
   "execution_count": null,
   "metadata": {},
   "outputs": [],
   "source": [
    "print(pd_je_arr.head())"
   ]
  },
  {
   "cell_type": "code",
   "execution_count": null,
   "metadata": {},
   "outputs": [],
   "source": [
    "data_file"
   ]
  },
  {
   "cell_type": "code",
   "execution_count": null,
   "metadata": {},
   "outputs": [],
   "source": [
    "max(0,1)"
   ]
  },
  {
   "cell_type": "code",
   "execution_count": null,
   "metadata": {},
   "outputs": [],
   "source": [
    "print ()"
   ]
  },
  {
   "cell_type": "code",
   "execution_count": 37,
   "metadata": {},
   "outputs": [
    {
     "name": "stdout",
     "output_type": "stream",
     "text": [
      "error on line  9787469  - line content: av\n",
      "  - error:  <class 'IndexError'>\n"
     ]
    }
   ],
   "source": [
    "try:\n",
    "    line_split = 'av'.split('\\t')\n",
    "    for (number, attr) in enumerate(line_split[1].split(\"]\")[0].split(\",\")):\n",
    "        print (attr)\n",
    "except:\n",
    "    print('error on line ', general_line_number, ' - line content:', linea, ' - error: ', sys.exc_info()[0])"
   ]
  },
  {
   "cell_type": "code",
   "execution_count": 46,
   "metadata": {},
   "outputs": [
    {
     "data": {
      "text/plain": [
       "'klasd1-1sald1-1alsd2-2kjasdjkad2-2'"
      ]
     },
     "execution_count": 46,
     "metadata": {},
     "output_type": "execute_result"
    }
   ],
   "source": [
    "'klasd1/1sald1.1alsd2/2kjasdjkad2.2'.replace('/','-').replace('.', '-')"
   ]
  },
  {
   "cell_type": "code",
   "execution_count": 22,
   "metadata": {},
   "outputs": [
    {
     "data": {
      "text/plain": [
       "'hola[1,2,3]'"
      ]
     },
     "execution_count": 22,
     "metadata": {},
     "output_type": "execute_result"
    }
   ],
   "source": [
    "'hola{0}'.format([1,2,3]).replace(' ','')"
   ]
  },
  {
   "cell_type": "code",
   "execution_count": 24,
   "metadata": {},
   "outputs": [
    {
     "data": {
      "text/plain": [
       "'asdad'"
      ]
     },
     "execution_count": 24,
     "metadata": {},
     "output_type": "execute_result"
    }
   ],
   "source": [
    "'asdad?'.replace('?', '')"
   ]
  },
  {
   "cell_type": "code",
   "execution_count": 25,
   "metadata": {},
   "outputs": [
    {
     "data": {
      "text/plain": [
       "'asdasdad.json'"
      ]
     },
     "execution_count": 25,
     "metadata": {},
     "output_type": "execute_result"
    }
   ],
   "source": [
    "'{0}.json'.format('asd?asdad').replace('?', '')"
   ]
  },
  {
   "cell_type": "code",
   "execution_count": null,
   "metadata": {},
   "outputs": [],
   "source": []
  }
 ],
 "metadata": {
  "kernelspec": {
   "display_name": "Python 3",
   "language": "python",
   "name": "python3"
  },
  "language_info": {
   "codemirror_mode": {
    "name": "ipython",
    "version": 3
   },
   "file_extension": ".py",
   "mimetype": "text/x-python",
   "name": "python",
   "nbconvert_exporter": "python",
   "pygments_lexer": "ipython3",
   "version": "3.7.4"
  }
 },
 "nbformat": 4,
 "nbformat_minor": 2
}
