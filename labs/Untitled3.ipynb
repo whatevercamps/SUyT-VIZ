{
 "cells": [
  {
   "cell_type": "code",
   "execution_count": 1,
   "metadata": {},
   "outputs": [],
   "source": [
    "import json"
   ]
  },
  {
   "cell_type": "code",
   "execution_count": 6,
   "metadata": {},
   "outputs": [],
   "source": [
    "arr = {}\n",
    "with open('slowjson.json', 'r') as f:\n",
    "    file = f.read()\n",
    "    arr = json.loads(file)"
   ]
  },
  {
   "cell_type": "code",
   "execution_count": 2,
   "metadata": {},
   "outputs": [],
   "source": [
    "hola = {}\n",
    "hola['pene'] = '23'"
   ]
  },
  {
   "cell_type": "code",
   "execution_count": 3,
   "metadata": {},
   "outputs": [
    {
     "data": {
      "text/plain": [
       "{'pene': '23'}"
      ]
     },
     "execution_count": 3,
     "metadata": {},
     "output_type": "execute_result"
    }
   ],
   "source": [
    "hola"
   ]
  },
  {
   "cell_type": "code",
   "execution_count": 7,
   "metadata": {},
   "outputs": [
    {
     "data": {
      "text/plain": [
       "[{'id': '1', 'peak': 0.533682, 'opeak': 0.636189},\n",
       " {'id': '2', 'peak': 0.0407577, 'opeak': 0.5},\n",
       " {'id': '3', 'peak': 0.0, 'opeak': 0.403282},\n",
       " {'id': '4', 'peak': 0.341154, 'opeak': 0.729901},\n",
       " {'id': '5', 'peak': 0.20508, 'opeak': 0.33829},\n",
       " {'id': '6', 'peak': 0.302659, 'opeak': 0.577451},\n",
       " {'id': '7', 'peak': 0.319893, 'opeak': 0.629717},\n",
       " {'id': '8', 'peak': 0.0655637, 'opeak': 0.450734},\n",
       " {'id': '9', 'peak': 0.116315, 'opeak': 0.711661},\n",
       " {'id': '10', 'peak': 0.110249, 'opeak': 0.805156},\n",
       " {'id': '11', 'peak': 0.108121, 'opeak': 0.619828},\n",
       " {'id': '12', 'peak': 0.191528, 'opeak': 0.739784},\n",
       " {'id': '13', 'peak': 0.155567, 'opeak': 0.589857},\n",
       " {'id': '14', 'peak': 0.0674525, 'opeak': 0.473982},\n",
       " {'id': '15', 'peak': 0.149544, 'opeak': 0.460852},\n",
       " {'id': '16', 'peak': 0.198227, 'opeak': 0.612776},\n",
       " {'id': '17', 'peak': 0.430647, 'opeak': 0.48764},\n",
       " {'id': '18', 'peak': 0.0831331, 'opeak': 0.489799},\n",
       " {'id': '19', 'peak': 0.150194, 'opeak': 0.540923},\n",
       " {'id': '20', 'peak': 0.0909233, 'opeak': 0.562066},\n",
       " {'id': '21', 'peak': 0.415624, 'opeak': 0.749051},\n",
       " {'id': '22', 'peak': 0.341838, 'opeak': 0.669824},\n",
       " {'id': '23', 'peak': 0.379148, 'opeak': 0.774135},\n",
       " {'id': '24', 'peak': 0.403105, 'opeak': 0.597397},\n",
       " {'id': '25', 'peak': 0.366168, 'opeak': 0.565071},\n",
       " {'id': '26', 'peak': 0.191437, 'opeak': 0.524434},\n",
       " {'id': '27', 'peak': 0.460805, 'opeak': 0.674751},\n",
       " {'id': '28', 'peak': 0.394562, 'opeak': 0.657446},\n",
       " {'id': '29', 'peak': 0.391474, 'opeak': 0.755968},\n",
       " {'id': '30', 'peak': 0.404913, 'opeak': 0.652686},\n",
       " {'id': '31', 'peak': 0.427184, 'opeak': 0.730263},\n",
       " {'id': '32', 'peak': 0.446374, 'opeak': 0.60413},\n",
       " {'id': '33', 'peak': 0.321325, 'opeak': 0.385302},\n",
       " {'id': '34', 'peak': 0.368246, 'opeak': 0.530965},\n",
       " {'id': '35', 'peak': 0.431614, 'opeak': 0.600989},\n",
       " {'id': '36', 'peak': 0.375781, 'opeak': 0.633797},\n",
       " {'id': '37', 'peak': 0.326968, 'opeak': 0.615878},\n",
       " {'id': '38', 'peak': 0.385412, 'opeak': 0.635803},\n",
       " {'id': '39', 'peak': 0.295379, 'opeak': 0.595125},\n",
       " {'id': '40', 'peak': 0.412582, 'opeak': 0.661401},\n",
       " {'id': '41', 'peak': 0.344551, 'opeak': 0.549422},\n",
       " {'id': '42', 'peak': 0.448657, 'opeak': 0.732933},\n",
       " {'id': '43', 'peak': 0.388944, 'opeak': 0.626747},\n",
       " {'id': '44', 'peak': 0.368884, 'opeak': 0.608334},\n",
       " {'id': '45', 'peak': 0.442238, 'opeak': 0.757211},\n",
       " {'id': '46', 'peak': 0.451155, 'opeak': 0.759466},\n",
       " {'id': '47', 'peak': 0.566896, 'opeak': 0.761046},\n",
       " {'id': '48', 'peak': 0.583501, 'opeak': 0.717534},\n",
       " {'id': '49', 'peak': 0.421234, 'opeak': 0.60617},\n",
       " {'id': '50', 'peak': 0.449685, 'opeak': 0.647574},\n",
       " {'id': '51', 'peak': 0.452665, 'opeak': 0.84748},\n",
       " {'id': '52', 'peak': 0.472429, 'opeak': 0.720536},\n",
       " {'id': '53', 'peak': 0.559118, 'opeak': 0.733974},\n",
       " {'id': '54', 'peak': 0.50688, 'opeak': 0.640342},\n",
       " {'id': '55', 'peak': 0.661576, 'opeak': 0.883879},\n",
       " {'id': '56', 'peak': 0.449691, 'opeak': 0.712322},\n",
       " {'id': '57', 'peak': 0.473006, 'opeak': 0.643354},\n",
       " {'id': '58', 'peak': 0.0, 'opeak': 0.0},\n",
       " {'id': '59', 'peak': 0.575586, 'opeak': 0.70958},\n",
       " {'id': '60', 'peak': 0.346186, 'opeak': 0.548045},\n",
       " {'id': '61', 'peak': 0.480094, 'opeak': 0.683154},\n",
       " {'id': '62', 'peak': 0.489768, 'opeak': 0.719267},\n",
       " {'id': '63', 'peak': 0.496485, 'opeak': 0.748939},\n",
       " {'id': '64', 'peak': 0.557115, 'opeak': 0.631815},\n",
       " {'id': '65', 'peak': 0.383674, 'opeak': 0.672653},\n",
       " {'id': '66', 'peak': 0.466603, 'opeak': 0.724626},\n",
       " {'id': '67', 'peak': 0.208032, 'opeak': 0.608292},\n",
       " {'id': '68', 'peak': 0.34544, 'opeak': 0.582463},\n",
       " {'id': '69', 'peak': 0.479796, 'opeak': 0.636638},\n",
       " {'id': '70', 'peak': 0.401493, 'opeak': 0.729787},\n",
       " {'id': '71', 'peak': 0.510313, 'opeak': 0.616948},\n",
       " {'id': '72', 'peak': 0.282501, 'opeak': 0.694414},\n",
       " {'id': '73', 'peak': 0.330087, 'opeak': 0.535313},\n",
       " {'id': '74', 'peak': 0.335934, 'opeak': 0.656765},\n",
       " {'id': '75', 'peak': 0.550132, 'opeak': 0.805839},\n",
       " {'id': '76', 'peak': 0.40438, 'opeak': 0.717247},\n",
       " {'id': '77', 'peak': 0.597216, 'opeak': 0.732895},\n",
       " {'id': '78', 'peak': 0.321414, 'opeak': 0.651506},\n",
       " {'id': '79', 'peak': 0.516735, 'opeak': 0.717267},\n",
       " {'id': '80', 'peak': 0.610346, 'opeak': 0.806567},\n",
       " {'id': '81', 'peak': 0.553577, 'opeak': 0.789533},\n",
       " {'id': '82', 'peak': 0.417432, 'opeak': 0.710975},\n",
       " {'id': '83', 'peak': 0.104597, 'opeak': 0.70489},\n",
       " {'id': '84', 'peak': 0.304693, 'opeak': 0.725862},\n",
       " {'id': '85', 'peak': 0.265221, 'opeak': 0.482123},\n",
       " {'id': '86', 'peak': 0.43053, 'opeak': 0.581446},\n",
       " {'id': '87', 'peak': 0.335338, 'opeak': 0.597716},\n",
       " {'id': '88', 'peak': 0.490388, 'opeak': 0.670748},\n",
       " {'id': '89', 'peak': 0.593929, 'opeak': 0.745037},\n",
       " {'id': '90', 'peak': 0.523666, 'opeak': 0.731107},\n",
       " {'id': '91', 'peak': 0.486373, 'opeak': 0.781076},\n",
       " {'id': '92', 'peak': 0.210881, 'opeak': 0.661346},\n",
       " {'id': '93', 'peak': 0.398361, 'opeak': 0.577885},\n",
       " {'id': '94', 'peak': 0.237932, 'opeak': 0.57791},\n",
       " {'id': '95', 'peak': 0.250848, 'opeak': 0.564692},\n",
       " {'id': '96', 'peak': 0.19847, 'opeak': 0.589965},\n",
       " {'id': '97', 'peak': 0.45738, 'opeak': 0.758909},\n",
       " {'id': '98', 'peak': 0.341454, 'opeak': 0.426788},\n",
       " {'id': '99', 'peak': 0.123599, 'opeak': 0.810564},\n",
       " {'id': '100', 'peak': 0.502741, 'opeak': 0.695624},\n",
       " {'id': '101', 'peak': 0.150755, 'opeak': 0.549219},\n",
       " {'id': '102', 'peak': 0.278598, 'opeak': 0.526555},\n",
       " {'id': '103', 'peak': 0.427295, 'opeak': 0.860659},\n",
       " {'id': '104', 'peak': 0.0597973, 'opeak': 0.500841},\n",
       " {'id': '105', 'peak': 0.148146, 'opeak': 0.606683},\n",
       " {'id': '106', 'peak': 0.388811, 'opeak': 0.497232},\n",
       " {'id': '107', 'peak': 0.160331, 'opeak': 0.504709},\n",
       " {'id': '108', 'peak': 0.100908, 'opeak': 0.446989},\n",
       " {'id': '109', 'peak': 0.137782, 'opeak': 0.560153},\n",
       " {'id': '110', 'peak': 0.228067, 'opeak': 0.577563},\n",
       " {'id': '111', 'peak': 0.390002, 'opeak': 0.662158},\n",
       " {'id': '112', 'peak': 0.0, 'opeak': 0.0},\n",
       " {'id': '113', 'peak': 0.479465, 'opeak': 0.744303},\n",
       " {'id': '114', 'peak': 0.584837, 'opeak': 0.825688},\n",
       " {'id': '115', 'peak': 0.479423, 'opeak': 0.76856},\n",
       " {'id': '116', 'peak': 0.464968, 'opeak': 0.781428},\n",
       " {'id': '117', 'peak': 0.487318, 'opeak': 0.903726},\n",
       " {'id': '118', 'peak': 0.577139, 'opeak': 0.764343},\n",
       " {'id': '119', 'peak': 0.625708, 'opeak': 0.804161},\n",
       " {'id': '120', 'peak': 0.50853, 'opeak': 0.740751},\n",
       " {'id': '121', 'peak': 0.525857, 'opeak': 0.791963},\n",
       " {'id': '122', 'peak': 0.628958, 'opeak': 0.688973},\n",
       " {'id': '123', 'peak': 0.479001, 'opeak': 0.681489},\n",
       " {'id': '124', 'peak': 0.551325, 'opeak': 0.749587},\n",
       " {'id': '125', 'peak': 0.546741, 'opeak': 0.591919},\n",
       " {'id': '126', 'peak': 0.661942, 'opeak': 0.870447},\n",
       " {'id': '127', 'peak': 0.493321, 'opeak': 0.0}]"
      ]
     },
     "execution_count": 7,
     "metadata": {},
     "output_type": "execute_result"
    }
   ],
   "source": [
    "arr"
   ]
  },
  {
   "cell_type": "code",
   "execution_count": 12,
   "metadata": {},
   "outputs": [],
   "source": [
    "arr2 = [1,2,3]"
   ]
  },
  {
   "cell_type": "code",
   "execution_count": 13,
   "metadata": {},
   "outputs": [],
   "source": [
    "arr3 = [4,5,6]"
   ]
  },
  {
   "cell_type": "code",
   "execution_count": 14,
   "metadata": {},
   "outputs": [
    {
     "data": {
      "text/plain": [
       "[1, 2, 3, 4, 5, 6]"
      ]
     },
     "execution_count": 14,
     "metadata": {},
     "output_type": "execute_result"
    }
   ],
   "source": [
    "arr2+arr3"
   ]
  },
  {
   "cell_type": "code",
   "execution_count": 11,
   "metadata": {},
   "outputs": [
    {
     "data": {
      "text/plain": [
       "[1, 2, 3, [4, 5, 6]]"
      ]
     },
     "execution_count": 11,
     "metadata": {},
     "output_type": "execute_result"
    }
   ],
   "source": [
    "arr2"
   ]
  },
  {
   "cell_type": "code",
   "execution_count": null,
   "metadata": {},
   "outputs": [],
   "source": []
  }
 ],
 "metadata": {
  "kernelspec": {
   "display_name": "Python 3",
   "language": "python",
   "name": "python3"
  },
  "language_info": {
   "codemirror_mode": {
    "name": "ipython",
    "version": 3
   },
   "file_extension": ".py",
   "mimetype": "text/x-python",
   "name": "python",
   "nbconvert_exporter": "python",
   "pygments_lexer": "ipython3",
   "version": "3.7.4"
  }
 },
 "nbformat": 4,
 "nbformat_minor": 2
}
