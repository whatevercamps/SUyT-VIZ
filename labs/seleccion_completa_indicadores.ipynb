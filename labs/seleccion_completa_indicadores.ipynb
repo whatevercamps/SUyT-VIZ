{
 "cells": [
  {
   "cell_type": "code",
   "execution_count": 36,
   "metadata": {},
   "outputs": [],
   "source": [
    "import pandas as pd\n",
    "import numpy as np\n",
    "import itertools\n",
    "import copy\n",
    "import sys"
   ]
  },
  {
   "cell_type": "code",
   "execution_count": 51,
   "metadata": {},
   "outputs": [
    {
     "name": "stdout",
     "output_type": "stream",
     "text": [
      "change of indicator *** prev-ind: \"%slow tours i\" new-ind: accessibility i\n",
      "change of indicator *** prev-ind: accessibility i new-ind: accessibility ij\n",
      "change of indicator *** prev-ind: accessibility ij new-ind: activity factor PT\n",
      "change of indicator *** prev-ind: activity factor PT new-ind: activity factor PT ij\n",
      "change of indicator *** prev-ind: activity factor PT ij new-ind: aggr activity factor PT by year ij\n",
      "change of indicator *** prev-ind: aggr activity factor PT by year ij new-ind: 15\t1240.27\n",
      "\n",
      "lines missmatch data: 16  count: 0\n",
      "lines missmatch data: 17  count: 0\n",
      "lines missmatch data: 18  count: 0\n",
      "lines missmatch data: 19  count: 0\n",
      "lines missmatch data: 20  count: 0\n",
      "lines missmatch data: 21  count: 0\n",
      "lines missmatch data: 22  count: 0\n",
      "lines missmatch data: 23  count: 0\n",
      "lines missmatch data: 24  count: 0\n",
      "lines missmatch data: 25  count: 0\n",
      "lines missmatch data: 26  count: 0\n",
      "lines missmatch data: 27  count: 0\n",
      "lines missmatch data: 28  count: 0\n",
      "lines missmatch data: 29  count: 0\n",
      "lines missmatch data: 30  count: 0\n",
      "lines missmatch data: 31  count: 0\n",
      "lines missmatch data: 32  count: 0\n",
      "lines missmatch data: 33  count: 0\n",
      "lines missmatch data: 34  count: 0\n",
      "lines missmatch data: 35  count: 0\n",
      "lines missmatch data: 36  count: 0\n",
      "lines missmatch data: 37  count: 0\n",
      "lines missmatch data: 38  count: 0\n",
      "lines missmatch data: 39  count: 0\n",
      "lines missmatch data: 40  count: 0\n",
      "lines missmatch data: 41  count: 0\n",
      "change of indicator *** prev-ind: 15\t1240.27\n",
      " new-ind: aggr activity factor PT by year ij\n",
      "error on line  8552736  - line content: aggr activity factor PT by year ij[a73,a65,tm,opeak]\n",
      "  - error:  <class 'SystemError'>\n"
     ]
    }
   ],
   "source": [
    "file = open(\"bob1.dat\", \"r\")\n",
    "data_file = []\n",
    "attrs = {}\n",
    "title = ''\n",
    "counter_line_ind = 0\n",
    "general_line_number = 0\n",
    "splitting_line_number = 0\n",
    "number_of_same_files = 0\n",
    "while 33276:\n",
    "    linea = file.readline()\n",
    "    if not linea:\n",
    "        break\n",
    "    splitting_line_number += 1\n",
    "    general_line_number += 1 \n",
    "    is_title = False\n",
    "    if '\\t' in linea:\n",
    "        try:\n",
    "            line_split = linea.split('\\t')\n",
    "            data_line_ind = int(float(line_split[0]))\n",
    "            if data_line_ind == counter_line_ind:\n",
    "                time = data_line_ind\n",
    "                try:\n",
    "                    value = float(line_split[1])\n",
    "                except:\n",
    "                    value = 'not val'\n",
    "                    \n",
    "                attrs['value'] = value\n",
    "                attrs['time'] = data_line_ind\n",
    "                counter_line_ind += 1\n",
    "                data_file.append(copy.copy(attrs))\n",
    "            else:\n",
    "                print('lines missmatch data:', data_line_ind, ' count:', counter_line_ind)       \n",
    "        except:\n",
    "            is_title = True\n",
    "    else:\n",
    "        is_title = True\n",
    "    if is_title:\n",
    "        try:\n",
    "            line_split = linea.split('[')\n",
    "            if general_line_number > 2:\n",
    "                if title != line_split[0]:\n",
    "                    print('change of indicator *** prev-ind:', title, 'new-ind:',line_split[0])\n",
    "                    acc_df = pd.DataFrame(data_file)\n",
    "                    data_file = []\n",
    "                    title = title.replace('/','-').replace('.', '-')\n",
    "                    if(number_of_same_files > 0):\n",
    "                        title = '{0}-{1}'.format(title, number_of_same_files)\n",
    "                    acc_df.to_csv('files2/{}.csv'.format(title), index=None)\n",
    "                    splitting_line_number = 0\n",
    "                    number_of_same_files = 0\n",
    "                elif splitting_line_number>10000:\n",
    "                    acc_df = pd.DataFrame(data_file)\n",
    "                    data_file = []\n",
    "                    number_of_same_files += 1\n",
    "                    title = title.replace('/','-').replace('.', '-')\n",
    "                    acc_df.to_csv('files2/{0}-{1}.csv'.format(title, number_of_same_files), index=None)\n",
    "                    splitting_line_number = 0\n",
    "            title = line_split[0]\n",
    "            for_attrs = []\n",
    "            attrs = {}\n",
    "            if len(line_split) > 1:\n",
    "                for (number, attr) in enumerate(line_split[1].split(\"]\")[0].split(\",\")):\n",
    "                    attrs['attr {}'.format(number+1)] = attr\n",
    "            attrs['value'] = 'not val yet'\n",
    "            counter_line_ind = 0\n",
    "        except:\n",
    "            print('error on line ', general_line_number, ' - line content:', linea, ' - error: ', sys.exc_info()[0])\n",
    "            break"
   ]
  },
  {
   "cell_type": "code",
   "execution_count": 48,
   "metadata": {},
   "outputs": [
    {
     "name": "stdout",
     "output_type": "stream",
     "text": [
      "135741458\n"
     ]
    }
   ],
   "source": [
    "file = open(\"bob1.dat\", \"r\")\n",
    "for i, l in enumerate(file):\n",
    "    pass\n",
    "print(i + 1)"
   ]
  },
  {
   "cell_type": "code",
   "execution_count": null,
   "metadata": {},
   "outputs": [],
   "source": [
    "jeje = {'attr 1': 'a1', 'attr 2': 'peak', 'value': 0.533682}\n",
    "je_arr = []"
   ]
  },
  {
   "cell_type": "code",
   "execution_count": null,
   "metadata": {},
   "outputs": [],
   "source": [
    "for a in range(10):\n",
    "    je_arr.append(jeje)"
   ]
  },
  {
   "cell_type": "code",
   "execution_count": null,
   "metadata": {},
   "outputs": [],
   "source": [
    "je_arr"
   ]
  },
  {
   "cell_type": "code",
   "execution_count": null,
   "metadata": {},
   "outputs": [],
   "source": [
    "pd_je_arr = pd.DataFrame(je_arr)"
   ]
  },
  {
   "cell_type": "code",
   "execution_count": null,
   "metadata": {},
   "outputs": [],
   "source": [
    "print(pd_je_arr.head())"
   ]
  },
  {
   "cell_type": "code",
   "execution_count": null,
   "metadata": {},
   "outputs": [],
   "source": [
    "data_file"
   ]
  },
  {
   "cell_type": "code",
   "execution_count": null,
   "metadata": {},
   "outputs": [],
   "source": [
    "max(0,1)"
   ]
  },
  {
   "cell_type": "code",
   "execution_count": null,
   "metadata": {},
   "outputs": [],
   "source": [
    "print ()"
   ]
  },
  {
   "cell_type": "code",
   "execution_count": 37,
   "metadata": {},
   "outputs": [
    {
     "name": "stdout",
     "output_type": "stream",
     "text": [
      "error on line  9787469  - line content: av\n",
      "  - error:  <class 'IndexError'>\n"
     ]
    }
   ],
   "source": [
    "try:\n",
    "    line_split = 'av'.split('\\t')\n",
    "    for (number, attr) in enumerate(line_split[1].split(\"]\")[0].split(\",\")):\n",
    "        print (attr)\n",
    "except:\n",
    "    print('error on line ', general_line_number, ' - line content:', linea, ' - error: ', sys.exc_info()[0])"
   ]
  },
  {
   "cell_type": "code",
   "execution_count": 46,
   "metadata": {},
   "outputs": [
    {
     "data": {
      "text/plain": [
       "'klasd1-1sald1-1alsd2-2kjasdjkad2-2'"
      ]
     },
     "execution_count": 46,
     "metadata": {},
     "output_type": "execute_result"
    }
   ],
   "source": [
    "'klasd1/1sald1.1alsd2/2kjasdjkad2.2'.replace('/','-').replace('.', '-')"
   ]
  },
  {
   "cell_type": "code",
   "execution_count": null,
   "metadata": {},
   "outputs": [],
   "source": []
  }
 ],
 "metadata": {
  "kernelspec": {
   "display_name": "Python 3",
   "language": "python",
   "name": "python3"
  },
  "language_info": {
   "codemirror_mode": {
    "name": "ipython",
    "version": 3
   },
   "file_extension": ".py",
   "mimetype": "text/x-python",
   "name": "python",
   "nbconvert_exporter": "python",
   "pygments_lexer": "ipython3",
   "version": "3.7.4"
  }
 },
 "nbformat": 4,
 "nbformat_minor": 2
}
