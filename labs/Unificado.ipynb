{
 "cells": [
  {
   "cell_type": "code",
   "execution_count": null,
   "metadata": {},
   "outputs": [],
   "source": [
    "import pandas as pd\n",
    "import numpy as np\n",
    "import json\n",
    "from os import listdir\n",
    "from os.path import isfile, join\n",
    "import copy"
   ]
  },
  {
   "cell_type": "code",
   "execution_count": null,
   "metadata": {},
   "outputs": [],
   "source": [
    "escenarios = [1,2]\n",
    "zonas = ['[a{0},'.format(zona) for zona in range(1, 128)]\n",
    "attrs = ['tpc', 'car', 'tm', 'peak', 'opeak']\n",
    "params = zonas + attrs \n",
    "path = '/Users/davidbautista/Documents/tesis/luti-back/server/'"
   ]
  },
  {
   "cell_type": "code",
   "execution_count": null,
   "metadata": {},
   "outputs": [],
   "source": [
    "#data para heatmap\n",
    "dataHT = [[[0 for k in range(128)] for j in range(128)] for i in range(128)]\n",
    "prev = 0\n",
    "for ruta in rutas:\n",
    "    prev += 1\n",
    "    if prev % 1000 == 0:\n",
    "        print(prev)\n",
    "    df = pd.read_json(join(p, ruta))\n",
    "    for index,row in df.iterrows():\n",
    "        z1 = int(row['zona_i_id'].split(\"a\")[1])\n",
    "        z2 = int(row['zona_j_id'].split(\"a\")[1])\n",
    "        t = int(row['time'])\n",
    "        value = float(row['value'])\n",
    "        dataHT[t][z1][z2] += value"
   ]
  }
 ],
 "metadata": {
  "kernelspec": {
   "display_name": "Python 3",
   "language": "python",
   "name": "python3"
  },
  "language_info": {
   "codemirror_mode": {
    "name": "ipython",
    "version": 3
   },
   "file_extension": ".py",
   "mimetype": "text/x-python",
   "name": "python",
   "nbconvert_exporter": "python",
   "pygments_lexer": "ipython3",
   "version": "3.7.4"
  }
 },
 "nbformat": 4,
 "nbformat_minor": 2
}
